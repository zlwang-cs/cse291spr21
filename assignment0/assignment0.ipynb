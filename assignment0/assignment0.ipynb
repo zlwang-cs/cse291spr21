{
  "nbformat": 4,
  "nbformat_minor": 0,
  "metadata": {
    "colab": {
      "name": "cse291-project0.ipynb",
      "provenance": [],
      "collapsed_sections": [],
      "include_colab_link": true
    },
    "kernelspec": {
      "name": "python3",
      "display_name": "Python 3"
    },
    "language_info": {
      "name": "python"
    },
    "accelerator": "GPU"
  },
  "cells": [
    {
      "cell_type": "markdown",
      "metadata": {
        "id": "view-in-github",
        "colab_type": "text"
      },
      "source": [
        "<a href=\"https://colab.research.google.com/github/tberg12/cse291spr21/blob/main/assignment0/assignment0.ipynb\" target=\"_parent\"><img src=\"https://colab.research.google.com/assets/colab-badge.svg\" alt=\"Open In Colab\"/></a>"
      ]
    },
    {
      "cell_type": "markdown",
      "metadata": {
        "id": "wMSuJOhhqa4K"
      },
      "source": [
        "# Project 0 - Language Modeling"
      ]
    },
    {
      "cell_type": "markdown",
      "metadata": {
        "id": "qJqPBpc-Nw-X"
      },
      "source": [
        "## Prerequisites"
      ]
    },
    {
      "cell_type": "code",
      "metadata": {
        "id": "6u8fFzd-q-1w"
      },
      "source": [
        "%matplotlib inline\n",
        "import numpy as np\n",
        "import matplotlib.pyplot as plt"
      ],
      "execution_count": null,
      "outputs": []
    },
    {
      "cell_type": "code",
      "metadata": {
        "colab": {
          "base_uri": "https://localhost:8080/"
        },
        "id": "1ltnSNkFqDFG",
        "outputId": "c6b25510-a3a9-422e-96ca-4e9feeef64ad"
      },
      "source": [
        "!git clone https://github.com/tberg12/cse291spr21"
      ],
      "execution_count": null,
      "outputs": [
        {
          "output_type": "stream",
          "text": [
            "Cloning into 'cse291spr21'...\n",
            "remote: Enumerating objects: 31, done.\u001b[K\n",
            "remote: Counting objects:   3% (1/31)\u001b[K\rremote: Counting objects:   6% (2/31)\u001b[K\rremote: Counting objects:   9% (3/31)\u001b[K\rremote: Counting objects:  12% (4/31)\u001b[K\rremote: Counting objects:  16% (5/31)\u001b[K\rremote: Counting objects:  19% (6/31)\u001b[K\rremote: Counting objects:  22% (7/31)\u001b[K\rremote: Counting objects:  25% (8/31)\u001b[K\rremote: Counting objects:  29% (9/31)\u001b[K\rremote: Counting objects:  32% (10/31)\u001b[K\rremote: Counting objects:  35% (11/31)\u001b[K\rremote: Counting objects:  38% (12/31)\u001b[K\rremote: Counting objects:  41% (13/31)\u001b[K\rremote: Counting objects:  45% (14/31)\u001b[K\rremote: Counting objects:  48% (15/31)\u001b[K\rremote: Counting objects:  51% (16/31)\u001b[K\rremote: Counting objects:  54% (17/31)\u001b[K\rremote: Counting objects:  58% (18/31)\u001b[K\rremote: Counting objects:  61% (19/31)\u001b[K\rremote: Counting objects:  64% (20/31)\u001b[K\rremote: Counting objects:  67% (21/31)\u001b[K\rremote: Counting objects:  70% (22/31)\u001b[K\rremote: Counting objects:  74% (23/31)\u001b[K\rremote: Counting objects:  77% (24/31)\u001b[K\rremote: Counting objects:  80% (25/31)\u001b[K\rremote: Counting objects:  83% (26/31)\u001b[K\rremote: Counting objects:  87% (27/31)\u001b[K\rremote: Counting objects:  90% (28/31)\u001b[K\rremote: Counting objects:  93% (29/31)\u001b[K\rremote: Counting objects:  96% (30/31)\u001b[K\rremote: Counting objects: 100% (31/31)\u001b[K\rremote: Counting objects: 100% (31/31), done.\u001b[K\n",
            "remote: Compressing objects: 100% (24/24), done.\u001b[K\n",
            "remote: Total 31 (delta 5), reused 20 (delta 3), pack-reused 0\u001b[K\n",
            "Unpacking objects: 100% (31/31), done.\n"
          ],
          "name": "stdout"
        }
      ]
    },
    {
      "cell_type": "code",
      "metadata": {
        "colab": {
          "base_uri": "https://localhost:8080/"
        },
        "id": "paBj08mYNlHS",
        "outputId": "e8342ce0-633d-46ca-dfae-eef5fa33995b"
      },
      "source": [
        "%cd /content/cse291spr21/assignment0/"
      ],
      "execution_count": null,
      "outputs": [
        {
          "output_type": "stream",
          "text": [
            "/content/cse291spr21/assignment0\n"
          ],
          "name": "stdout"
        }
      ]
    },
    {
      "cell_type": "markdown",
      "metadata": {
        "id": "k79jLFYaOpeb"
      },
      "source": [
        "## Task II"
      ]
    },
    {
      "cell_type": "markdown",
      "metadata": {
        "id": "X447pK1STsT9"
      },
      "source": [
        "### 2.1"
      ]
    },
    {
      "cell_type": "markdown",
      "metadata": {
        "id": "i-fA0cAEYTiC"
      },
      "source": [
        "Train an recurrent neural network (RNN) based language model (LM) on the WikiText-2 dataset. Report the final perplexity on the test set. (_Hint_: You should be able to reach a perplexity lower than 150 in 10 epochs, which should take around 10 minutes if you are using a GPU on Colab.)"
      ]
    },
    {
      "cell_type": "code",
      "metadata": {
        "colab": {
          "base_uri": "https://localhost:8080/"
        },
        "id": "WK8LMutLqKdx",
        "outputId": "57daf374-594d-4dbf-cf43-2e3b599c9595"
      },
      "source": [
        "!python main.py --cuda --epoch 1"
      ],
      "execution_count": null,
      "outputs": [
        {
          "output_type": "stream",
          "text": [
            "| epoch   1 |   200/ 2983 batches | lr 20.00 | ms/batch 18.58 | loss  7.64 | ppl  2080.31\n",
            "| epoch   1 |   400/ 2983 batches | lr 20.00 | ms/batch 18.01 | loss  6.86 | ppl   957.28\n",
            "| epoch   1 |   600/ 2983 batches | lr 20.00 | ms/batch 17.96 | loss  6.49 | ppl   656.19\n",
            "| epoch   1 |   800/ 2983 batches | lr 20.00 | ms/batch 18.06 | loss  6.29 | ppl   538.88\n",
            "| epoch   1 |  1000/ 2983 batches | lr 20.00 | ms/batch 18.01 | loss  6.14 | ppl   462.77\n",
            "| epoch   1 |  1200/ 2983 batches | lr 20.00 | ms/batch 17.98 | loss  6.05 | ppl   424.42\n",
            "| epoch   1 |  1400/ 2983 batches | lr 20.00 | ms/batch 18.01 | loss  5.94 | ppl   379.87\n",
            "| epoch   1 |  1600/ 2983 batches | lr 20.00 | ms/batch 18.09 | loss  5.95 | ppl   381.89\n",
            "| epoch   1 |  1800/ 2983 batches | lr 20.00 | ms/batch 18.10 | loss  5.80 | ppl   328.94\n",
            "| epoch   1 |  2000/ 2983 batches | lr 20.00 | ms/batch 18.14 | loss  5.78 | ppl   323.80\n",
            "| epoch   1 |  2200/ 2983 batches | lr 20.00 | ms/batch 18.17 | loss  5.66 | ppl   286.91\n",
            "| epoch   1 |  2400/ 2983 batches | lr 20.00 | ms/batch 18.18 | loss  5.67 | ppl   291.06\n",
            "| epoch   1 |  2600/ 2983 batches | lr 20.00 | ms/batch 18.26 | loss  5.67 | ppl   289.06\n",
            "| epoch   1 |  2800/ 2983 batches | lr 20.00 | ms/batch 18.32 | loss  5.54 | ppl   255.15\n",
            "-----------------------------------------------------------------------------------------\n",
            "| end of epoch   1 | time: 56.53s | valid loss  5.54 | valid ppl   255.44\n",
            "-----------------------------------------------------------------------------------------\n",
            "=========================================================================================\n",
            "| End of training | test loss  5.46 | test ppl   234.05\n",
            "=========================================================================================\n"
          ],
          "name": "stdout"
        }
      ]
    }
  ]
}